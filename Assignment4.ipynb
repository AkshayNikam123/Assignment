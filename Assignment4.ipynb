{
  "nbformat": 4,
  "nbformat_minor": 0,
  "metadata": {
    "colab": {
      "provenance": [],
      "collapsed_sections": []
    },
    "kernelspec": {
      "name": "python3",
      "display_name": "Python 3"
    },
    "language_info": {
      "name": "python"
    }
  },
  "cells": [
    {
      "cell_type": "markdown",
      "source": [
        "#Assignment4\n",
        "##control flow and conditional statements"
      ],
      "metadata": {
        "id": "D0YDJ2KLqib2"
      }
    },
    {
      "cell_type": "code",
      "source": [],
      "metadata": {
        "id": "PYk3IFSQqwZp"
      },
      "execution_count": null,
      "outputs": []
    },
    {
      "cell_type": "markdown",
      "source": [
        "#Q1. Find the largest number from the given list, use for loop.\n",
        "```\n",
        "numbers = [12, 75, 150, 180, 145, 525, 50]\n",
        "```"
      ],
      "metadata": {
        "id": "NLIbzKu3q3-T"
      }
    },
    {
      "cell_type": "code",
      "source": [
        "numbers = [12, 75, 150, 180, 145, 525, 50]\n",
        "largest_number=numbers[0]\n",
        "for i in numbers:\n",
        "  if i>largest_number:\n",
        "    largest_number=i\n",
        "print(f\"largest number is:{largest_number}\")\n",
        "\n",
        "  "
      ],
      "metadata": {
        "colab": {
          "base_uri": "https://localhost:8080/"
        },
        "id": "4E3vIap8q9k9",
        "outputId": "2863c33d-5b80-47e3-9d19-8c94fe7e1544"
      },
      "execution_count": 4,
      "outputs": [
        {
          "output_type": "stream",
          "name": "stdout",
          "text": [
            "largest number is:525\n"
          ]
        }
      ]
    },
    {
      "cell_type": "markdown",
      "source": [
        "#Q2. Print all the even number between (1, 12)."
      ],
      "metadata": {
        "id": "3GExCy5WvXgI"
      }
    },
    {
      "cell_type": "code",
      "source": [
        "n=int(input(\"enter number:\"))\n",
        "for i in range(1,n+1):\n",
        "  if i%2==0:\n",
        "    print(i)"
      ],
      "metadata": {
        "colab": {
          "base_uri": "https://localhost:8080/"
        },
        "id": "L3GjgXnVs6Uk",
        "outputId": "459e1110-397d-49a3-f0ff-23f93844a9cb"
      },
      "execution_count": 105,
      "outputs": [
        {
          "output_type": "stream",
          "name": "stdout",
          "text": [
            "enter number:12\n",
            "2\n",
            "4\n",
            "6\n",
            "8\n",
            "10\n"
          ]
        }
      ]
    },
    {
      "cell_type": "markdown",
      "source": [
        "#Q3. Calculate the sum of all numbers from 1 to a given number\n",
        "    \n",
        "    Expected Output:\n",
        "\n",
        "    Enter number 10\n",
        "    \n",
        "    Sum is:  55"
      ],
      "metadata": {
        "id": "7f6IONOIzKbk"
      }
    },
    {
      "cell_type": "code",
      "source": [
        "list=[]\n",
        "n=int(input(\"enter  number:\"))\n",
        "sum=0\n",
        "for i in range(0,n+1):\n",
        "  sum=sum+i\n",
        "print(\"sum of all number is:\",sum)"
      ],
      "metadata": {
        "colab": {
          "base_uri": "https://localhost:8080/"
        },
        "id": "GeSyiSxZvxzv",
        "outputId": "928be506-4fe5-44ec-c441-fd7d0f5146e2"
      },
      "execution_count": 54,
      "outputs": [
        {
          "output_type": "stream",
          "name": "stdout",
          "text": [
            "enter  number:10\n",
            "sum of all number is: 55\n"
          ]
        }
      ]
    },
    {
      "cell_type": "markdown",
      "source": [
        "#Q4. Write a program to display only those numbers from a list that satisfy the following conditions\n",
        "\n",
        "- The number must be divisible by five\n",
        "\n",
        "- If the number is greater than 150, then skip it and move to the next number\n",
        "\n",
        "- If the number is greater than 500, then stop the loop"
      ],
      "metadata": {
        "id": "dxbniZsf_0x5"
      }
    },
    {
      "cell_type": "code",
      "source": [
        "numbers = [12, 75, 150, 180, 145, 525, 50]\n",
        "for i in numbers:\n",
        "  if i>150:\n",
        "    if i>500:\n",
        "      break\n",
        "    continue \n",
        "  if i%5==0:\n",
        "    print(i)\n",
        "    \n",
        "    \n"
      ],
      "metadata": {
        "colab": {
          "base_uri": "https://localhost:8080/"
        },
        "id": "VnLrYdYtzbjK",
        "outputId": "ed563a1b-d826-4002-fb78-22889120b502"
      },
      "execution_count": 67,
      "outputs": [
        {
          "output_type": "stream",
          "name": "stdout",
          "text": [
            "75\n",
            "150\n",
            "145\n"
          ]
        }
      ]
    },
    {
      "cell_type": "markdown",
      "source": [
        "#Q5. Print the given list in reverse order.\n",
        "\n",
        "```\n",
        "list1 = [10, 20, 30, 40, 50]\n",
        "```"
      ],
      "metadata": {
        "id": "ulRSsiJXGQbh"
      }
    },
    {
      "cell_type": "code",
      "source": [
        "list1 = [10, 20, 30, 40, 50]\n",
        "list1[::-1]"
      ],
      "metadata": {
        "colab": {
          "base_uri": "https://localhost:8080/"
        },
        "id": "gHHsD5xrCGX6",
        "outputId": "864268a8-a3c1-4efc-c827-48b55840b520"
      },
      "execution_count": 63,
      "outputs": [
        {
          "output_type": "execute_result",
          "data": {
            "text/plain": [
              "[50, 40, 30, 20, 10]"
            ]
          },
          "metadata": {},
          "execution_count": 63
        }
      ]
    },
    {
      "cell_type": "code",
      "source": [],
      "metadata": {
        "id": "6cQaLXy5G2oj"
      },
      "execution_count": 96,
      "outputs": []
    },
    {
      "cell_type": "code",
      "source": [],
      "metadata": {
        "id": "vG5LFEYaq_MH"
      },
      "execution_count": 96,
      "outputs": []
    }
  ]
}