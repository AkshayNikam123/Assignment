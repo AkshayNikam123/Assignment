{
  "nbformat": 4,
  "nbformat_minor": 0,
  "metadata": {
    "colab": {
      "provenance": [],
      "collapsed_sections": []
    },
    "kernelspec": {
      "name": "python3",
      "display_name": "Python 3"
    },
    "language_info": {
      "name": "python"
    }
  },
  "cells": [
    {
      "cell_type": "markdown",
      "source": [
        "#Python string manipulation\n",
        "\n",
        "##1. Count the number of times `iNeuron` appears in the string.\n",
        "###text = \"Welcome to iNeuron, You are a part of FSDS Bootcamp 2 in iNeuron. I hope you are enjoying the course by iNeuron\""
      ],
      "metadata": {
        "id": "zm5A2sksSszT"
      }
    },
    {
      "cell_type": "code",
      "source": [
        "text = \"Welcome to iNeuron, You are a part of FSDS Bootcamp 2 in iNeuron. I hope you are enjoying the course by iNeuron\"\n",
        "text.count(\"iNeuron\")"
      ],
      "metadata": {
        "colab": {
          "base_uri": "https://localhost:8080/"
        },
        "id": "tmoXKVdXS5We",
        "outputId": "59070298-0d87-4add-d6ee-85cd2af10d10"
      },
      "execution_count": null,
      "outputs": [
        {
          "output_type": "execute_result",
          "data": {
            "text/plain": [
              "3"
            ]
          },
          "metadata": {},
          "execution_count": 3
        }
      ]
    },
    {
      "cell_type": "markdown",
      "source": [
        "##2.Check if position 5 to 11 ends with the phrase iNeuron. in the string\n",
        "###txt = \"Hello, welcome to FSDS 2.0 at iNeuron.\""
      ],
      "metadata": {
        "id": "-v_eL0ByTzK_"
      }
    },
    {
      "cell_type": "code",
      "source": [
        "txt = \"Hello, welcome to FSDS 2.0 at iNeuron.\"\n",
        "txt[5:11]==\"iNeuron\""
      ],
      "metadata": {
        "colab": {
          "base_uri": "https://localhost:8080/"
        },
        "id": "dohHXSARTt_w",
        "outputId": "5dec0c05-d6c2-4a9b-a25c-15bfb4c739b0"
      },
      "execution_count": null,
      "outputs": [
        {
          "output_type": "execute_result",
          "data": {
            "text/plain": [
              "False"
            ]
          },
          "metadata": {},
          "execution_count": 5
        }
      ]
    },
    {
      "cell_type": "markdown",
      "source": [
        "#3.Write a program that takes your full name as input and displays the abbreviations of the first and middle names except the last name which is displayed as it is."
      ],
      "metadata": {
        "id": "xMp6l-LLVjoH"
      }
    },
    {
      "cell_type": "code",
      "source": [
        "name=input(\"enter your name:\")\n",
        "name.title()\n",
        "first_name,middle_name,surname==name.split(\" \")\n",
        "print(f\"{first_name[0].upper()}.{middle_name[0].upper()}.{surname[:].title()}\")"
      ],
      "metadata": {
        "colab": {
          "base_uri": "https://localhost:8080/"
        },
        "id": "Q1BY7iTmVOHE",
        "outputId": "a519d7d5-3a66-453f-cea8-d484ad9ae016"
      },
      "execution_count": null,
      "outputs": [
        {
          "output_type": "stream",
          "name": "stdout",
          "text": [
            "enter your name:akshay rajendra nikam\n",
            "A.R.Nikam\n"
          ]
        }
      ]
    },
    {
      "cell_type": "markdown",
      "source": [
        "#4.Join all items in a list into a string, using a hash(#) character as separator:"
      ],
      "metadata": {
        "id": "h2NI1RPthyKf"
      }
    },
    {
      "cell_type": "code",
      "source": [
        "LIST = [\"My\", \"name\", \"is\", \"Rishav\", \"Dash\"]\n",
        "\"#\".join(LIST)"
      ],
      "metadata": {
        "colab": {
          "base_uri": "https://localhost:8080/",
          "height": 35
        },
        "id": "zeYXcSHlX8_I",
        "outputId": "1c0b52ef-f9e0-4926-e399-0142e8db16de"
      },
      "execution_count": null,
      "outputs": [
        {
          "output_type": "execute_result",
          "data": {
            "text/plain": [
              "'My#name#is#Rishav#Dash'"
            ],
            "application/vnd.google.colaboratory.intrinsic+json": {
              "type": "string"
            }
          },
          "metadata": {},
          "execution_count": 23
        }
      ]
    },
    {
      "cell_type": "markdown",
      "source": [
        "#5.Write example for the following string manipulation \n",
        "```\n",
        "-isdecimal()\n",
        "- islower()\n",
        "- isupper()\n",
        "- isalpha()\n",
        "- isnumeric()\n",
        "```"
      ],
      "metadata": {
        "id": "QhPsY_ASmFwM"
      }
    },
    {
      "cell_type": "code",
      "source": [
        "num=\"\\n003\"\n",
        "num.isdecimal()\n"
      ],
      "metadata": {
        "colab": {
          "base_uri": "https://localhost:8080/"
        },
        "id": "88Bo92MOihMv",
        "outputId": "b757d84d-3dc3-4af9-a44a-7ec420fa0e77"
      },
      "execution_count": 2,
      "outputs": [
        {
          "name": "stdout",
          "output_type": "stream",
          "text": [
            "enter your number:123456\n"
          ]
        },
        {
          "output_type": "execute_result",
          "data": {
            "text/plain": [
              "True"
            ]
          },
          "metadata": {},
          "execution_count": 2
        }
      ]
    },
    {
      "cell_type": "code",
      "source": [
        "name=input(\"enter your name\")\n",
        "name.islower()"
      ],
      "metadata": {
        "id": "0ghV1CGLm33Y",
        "colab": {
          "base_uri": "https://localhost:8080/"
        },
        "outputId": "ef06b5cb-82e4-49fd-e3a8-c167240feb01"
      },
      "execution_count": 4,
      "outputs": [
        {
          "name": "stdout",
          "output_type": "stream",
          "text": [
            "enter your nameakshay rajendra nikam\n"
          ]
        },
        {
          "output_type": "execute_result",
          "data": {
            "text/plain": [
              "True"
            ]
          },
          "metadata": {},
          "execution_count": 4
        }
      ]
    },
    {
      "cell_type": "code",
      "source": [
        "favourite_sports=input(\"enter sports\")\n",
        "favourite_sports.isupper()"
      ],
      "metadata": {
        "id": "2D1YRQd-n0vn",
        "colab": {
          "base_uri": "https://localhost:8080/"
        },
        "outputId": "3345031f-d756-4dc9-a4b8-7227b9d4d347"
      },
      "execution_count": 5,
      "outputs": [
        {
          "name": "stdout",
          "output_type": "stream",
          "text": [
            "enter sportsCRICKET\n"
          ]
        },
        {
          "output_type": "execute_result",
          "data": {
            "text/plain": [
              "True"
            ]
          },
          "metadata": {},
          "execution_count": 5
        }
      ]
    },
    {
      "cell_type": "code",
      "source": [
        "text=\"ineuron\"\n",
        "text.isalpha()"
      ],
      "metadata": {
        "id": "lc-xvV2pn0yu",
        "colab": {
          "base_uri": "https://localhost:8080/"
        },
        "outputId": "4f8a2607-5eca-4155-b6f8-047ec7d10cff"
      },
      "execution_count": 6,
      "outputs": [
        {
          "output_type": "execute_result",
          "data": {
            "text/plain": [
              "True"
            ]
          },
          "metadata": {},
          "execution_count": 6
        }
      ]
    },
    {
      "cell_type": "code",
      "source": [
        "number=\"874589467975\"\n",
        "number.isnumeric()"
      ],
      "metadata": {
        "id": "svdDGPP9n017",
        "colab": {
          "base_uri": "https://localhost:8080/"
        },
        "outputId": "99d52fcd-63eb-4557-d7e6-67fc37e90191"
      },
      "execution_count": 9,
      "outputs": [
        {
          "output_type": "execute_result",
          "data": {
            "text/plain": [
              "True"
            ]
          },
          "metadata": {},
          "execution_count": 9
        }
      ]
    },
    {
      "cell_type": "code",
      "source": [],
      "metadata": {
        "id": "765OlUrPn05Q"
      },
      "execution_count": null,
      "outputs": []
    },
    {
      "cell_type": "markdown",
      "source": [
        "#  6. Indian PAN card format follows the following formats- \n",
        "```\n",
        "  AYEPC7894X\n",
        "  ABCDE9999Y\n",
        "  Take user input for PAN_CARD and validate as per the above example.\n",
        "```"
      ],
      "metadata": {
        "id": "1b7h1kWdoHTm"
      }
    },
    {
      "cell_type": "code",
      "source": [
        "list=[]\n",
        "PAN_CARD=input(\"enter pancard number \")\n",
        "if PAN_CARD[0:5].isupper() and PAN_CARD[5:9].isdecimal() and PAN_CARD[-1].isupper() :\n",
        "  print(\"Enter pancard number is correct\")\n",
        "else:\n",
        "  print(\"Invalid pancard number\")"
      ],
      "metadata": {
        "colab": {
          "base_uri": "https://localhost:8080/"
        },
        "id": "vt_w0xafoIMj",
        "outputId": "e0802d26-4fa7-413e-e620-00a2e4fe4057"
      },
      "execution_count": 43,
      "outputs": [
        {
          "output_type": "stream",
          "name": "stdout",
          "text": [
            "enter pancard number AYEPC7894X\n",
            "Enter pancard number is correct\n"
          ]
        }
      ]
    },
    {
      "cell_type": "code",
      "source": [
        "\n"
      ],
      "metadata": {
        "id": "x-381uywpiZm"
      },
      "execution_count": 43,
      "outputs": []
    },
    {
      "cell_type": "code",
      "source": [],
      "metadata": {
        "id": "YglFhonLptUN"
      },
      "execution_count": 31,
      "outputs": []
    }
  ]
}